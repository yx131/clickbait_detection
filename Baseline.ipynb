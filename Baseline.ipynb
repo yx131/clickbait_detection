{
 "cells": [
  {
   "cell_type": "code",
   "execution_count": 4,
   "metadata": {
    "colab": {
     "base_uri": "https://localhost:8080/",
     "height": 122
    },
    "colab_type": "code",
    "executionInfo": {
     "elapsed": 18042,
     "status": "ok",
     "timestamp": 1575342458334,
     "user": {
      "displayName": "Yuansheng Xie",
      "photoUrl": "",
      "userId": "02952600350336082848"
     },
     "user_tz": 300
    },
    "id": "wohNdXsDuQ6W",
    "outputId": "be6c8992-ad40-4ce2-a7e7-665ed72f735a"
   },
   "outputs": [
    {
     "name": "stdout",
     "output_type": "stream",
     "text": [
      "Go to this URL in a browser: https://accounts.google.com/o/oauth2/auth?client_id=947318989803-6bn6qk8qdgf4n4g3pfee6491hc0brc4i.apps.googleusercontent.com&redirect_uri=urn%3aietf%3awg%3aoauth%3a2.0%3aoob&response_type=code&scope=email%20https%3a%2f%2fwww.googleapis.com%2fauth%2fdocs.test%20https%3a%2f%2fwww.googleapis.com%2fauth%2fdrive%20https%3a%2f%2fwww.googleapis.com%2fauth%2fdrive.photos.readonly%20https%3a%2f%2fwww.googleapis.com%2fauth%2fpeopleapi.readonly\n",
      "\n",
      "Enter your authorization code:\n",
      "··········\n",
      "Mounted at /content/drive\n"
     ]
    }
   ],
   "source": [
    "import time\n",
    "import numpy as np\n",
    "import pandas as pd\n",
    "from sklearn.model_selection import train_test_split\n",
    "from sklearn.metrics import mean_squared_error\n",
    "from sklearn.model_selection import cross_validate\n",
    "from sklearn.model_selection import cross_val_score\n",
    "from sklearn.feature_extraction.text import TfidfVectorizer\n",
    "from sklearn.feature_extraction.text import CountVectorizer\n",
    "from sklearn.naive_bayes import GaussianNB\n",
    "from sklearn.svm import LinearSVR\n",
    "from sklearn.metrics import classification_report\n",
    "import warnings\n",
    "warnings.filterwarnings('ignore')"
   ]
  },
  {
   "cell_type": "code",
   "execution_count": 0,
   "metadata": {
    "colab": {},
    "colab_type": "code",
    "id": "8nkxaj5ouQ6Z"
   },
   "outputs": [],
   "source": [
    "df = pd.read_csv('data/prepped/prepped.csv')[0:2500]\n",
    "df['postText'] = df['postText'].transform(lambda x: np.str_(x))"
   ]
  },
  {
   "cell_type": "code",
   "execution_count": 0,
   "metadata": {
    "colab": {},
    "colab_type": "code",
    "id": "CYzoE_88uQ6a"
   },
   "outputs": [],
   "source": [
    "#Naive Bayes for base line:\n",
    "count_vectorizer = CountVectorizer(ngram_range=(2,2))\n",
    "X = df['postText']\n",
    "y = df['truthClass'].transform(lambda x: 1 if x =='clickbait' else 0)\n",
    "X = count_vectorizer.fit_transform(df['postText'][0:2500]).toarray()\n"
   ]
  },
  {
   "cell_type": "code",
   "execution_count": 7,
   "metadata": {
    "colab": {
     "base_uri": "https://localhost:8080/",
     "height": 85
    },
    "colab_type": "code",
    "executionInfo": {
     "elapsed": 10263,
     "status": "ok",
     "timestamp": 1575342518989,
     "user": {
      "displayName": "Yuansheng Xie",
      "photoUrl": "",
      "userId": "02952600350336082848"
     },
     "user_tz": 300
    },
    "id": "zMsEGrBduQ6c",
    "outputId": "de92a3ed-bb3c-422d-a96f-c244993d23a1"
   },
   "outputs": [
    {
     "name": "stdout",
     "output_type": "stream",
     "text": [
      "f1: 0.4865043229963786\n",
      "precision 0.41159083198162205\n",
      "recall 0.5959028068705489\n",
      "accuracy 0.6111667390669563\n"
     ]
    }
   ],
   "source": [
    "gnb = GaussianNB()\n",
    "gnb_scores = cross_validate(gnb, X, y, cv=5, scoring=['f1', 'precision', 'recall', 'accuracy'])\n",
    "print(f'f1: {gnb_scores[\"test_f1\"].mean()}')\n",
    "print(f'precision {gnb_scores[\"test_precision\"].mean()}') \n",
    "print(f'recall {gnb_scores[\"test_recall\"].mean()}')\n",
    "print(f'accuracy {gnb_scores[\"test_accuracy\"].mean()}')"
   ]
  },
  {
   "cell_type": "code",
   "execution_count": 9,
   "metadata": {
    "colab": {
     "base_uri": "https://localhost:8080/",
     "height": 68
    },
    "colab_type": "code",
    "executionInfo": {
     "elapsed": 3008,
     "status": "ok",
     "timestamp": 1575342560651,
     "user": {
      "displayName": "Yuansheng Xie",
      "photoUrl": "",
      "userId": "02952600350336082848"
     },
     "user_tz": 300
    },
    "id": "RLKH1Tm1uQ6d",
    "outputId": "1b06ff48-f8cc-4999-9c36-e2d4cf223285"
   },
   "outputs": [
    {
     "name": "stdout",
     "output_type": "stream",
     "text": [
      "linear_svr_scores trained on 'postText': \n",
      "MSE: -0.0563309362853006\n",
      "r^2: -0.017379406585420476\n"
     ]
    }
   ],
   "source": [
    "y =  df['truthMean']\n",
    "linear_svr = LinearSVR(random_state=0, max_iter=100)\n",
    "linear_svr_scores = cross_validate(linear_svr, X, y, cv=5, scoring=['neg_mean_squared_error','r2'])\n",
    "print(f'linear_svr_scores trained on \\'postText\\': ')\n",
    "print(f'MSE: {linear_svr_scores[\"test_neg_mean_squared_error\"].mean()}')\n",
    "print(f'r^2: {linear_svr_scores[\"test_r2\"].mean()}')\n"
   ]
  },
  {
   "cell_type": "code",
   "execution_count": 0,
   "metadata": {
    "colab": {},
    "colab_type": "code",
    "id": "eOT9AtWyuQ6e"
   },
   "outputs": [],
   "source": [
    "# tfidf_dict = {}\n",
    "# for feature in features:\n",
    "#     vectorizer = TfidfVectorizer(ngram_range=(1,1))\n",
    "#     tfidf_matrix = vectorizer.fit_transform(df[feature]).toarray()\n",
    "#     tfidf_dict[feature] = tfidf_matrix\n",
    "\n",
    "# for feature in features:\n",
    "#     X = tfidf_dict[feature]\n",
    "#     y = df['truthClass'].transform(lambda x: 1 if x == 'clickbait' else 0)\n",
    "#     logReg = LogisticRegression(random_state=1, max_iter=100)\n",
    "#     logReg_scores = cross_validate(logReg, X, y, cv=5, scoring=['neg_mean_squared_error', 'r2'])\n",
    "#     print(f'logReg scores trained on \\'{feature}\\': ')\n",
    "#     print(f'MSE: {logReg_scores[\"test_neg_mean_squared_error\"].mean()}')\n",
    "#     print(f'R2: {logReg_scores[\"test_r2\"].mean()}')\n"
   ]
  }
 ],
 "metadata": {
  "colab": {
   "name": "Baseline.ipynb",
   "provenance": []
  },
  "kernelspec": {
   "display_name": "Python 3",
   "language": "python",
   "name": "python3"
  },
  "language_info": {
   "codemirror_mode": {
    "name": "ipython",
    "version": 3
   },
   "file_extension": ".py",
   "mimetype": "text/x-python",
   "name": "python",
   "nbconvert_exporter": "python",
   "pygments_lexer": "ipython3",
   "version": "3.7.3"
  }
 },
 "nbformat": 4,
 "nbformat_minor": 1
}
