{
 "cells": [
  {
   "cell_type": "code",
   "execution_count": 0,
   "metadata": {
    "colab": {
     "base_uri": "https://localhost:8080/",
     "height": 34
    },
    "colab_type": "code",
    "executionInfo": {
     "elapsed": 292,
     "status": "ok",
     "timestamp": 1575379094881,
     "user": {
      "displayName": "Yuansheng Xie",
      "photoUrl": "",
      "userId": "02952600350336082848"
     },
     "user_tz": 300
    },
    "id": "dRyyvRg6U-8T",
    "outputId": "350d1ed7-7bd3-4187-fd54-da6bad52784a"
   },
   "outputs": [
    {
     "name": "stdout",
     "output_type": "stream",
     "text": [
      "Drive already mounted at /content/drive; to attempt to forcibly remount, call drive.mount(\"/content/drive\", force_remount=True).\n"
     ]
    }
   ],
   "source": [
    "import time\n",
    "import re\n",
    "import numpy as np\n",
    "import pandas as pd\n",
    "from sklearn.model_selection import train_test_split\n",
    "from sklearn.metrics import classification_report\n",
    "from sklearn.metrics import accuracy_score\n",
    "from sklearn.metrics import mean_squared_error\n",
    "from sklearn.model_selection import cross_validate\n",
    "from sklearn.model_selection import cross_val_score\n",
    "from sklearn.feature_extraction.text import TfidfVectorizer\n",
    "from sklearn.feature_extraction.text import CountVectorizer\n",
    "from sklearn.svm import LinearSVR\n",
    "from sklearn.svm import LinearSVC\n",
    "from sklearn.linear_model import LogisticRegression\n",
    "from sklearn.ensemble import RandomForestClassifier\n",
    "from sklearn.metrics import mean_squared_error\n",
    "import warnings\n",
    "warnings.filterwarnings('ignore')\n",
    "random_state = 7\n",
    "\n",
    "def threshold(x):\n",
    "    return 1 if x > 0.5 else 0\n",
    "tot = 7700"
   ]
  },
  {
   "cell_type": "code",
   "execution_count": 0,
   "metadata": {
    "colab": {},
    "colab_type": "code",
    "id": "oHsDOSfKfnwd"
   },
   "outputs": [],
   "source": [
    "df = pd.read_csv('data/prepped/prepped.csv')\n",
    "df['postText'] = df['postText'].transform(lambda x: np.str_(x))\n",
    "df['targetKeywords'] = df['targetKeywords'].transform(lambda x:np.str_(x))"
   ]
  },
  {
   "cell_type": "code",
   "execution_count": 0,
   "metadata": {
    "colab": {},
    "colab_type": "code",
    "id": "sOqRac18hv5M"
   },
   "outputs": [],
   "source": [
    "constructed_features = ['headline_length', 'words_avglength', 'stop_words_count', 'count_slang', 'count_punctuation', 'cardinal_beginings', 'phrase_clickbait', 'count_determiners', 'count_possessives', 'count_adverb', 'count_propernoun']\n",
    "text_features = ['postText', 'targetKeywords']\n",
    "all_used_features = text_features + constructed_features\n",
    "# X = df[all_used_features]\n",
    "# y = df['truthMean']\n",
    "# X_train, X_test, y_train, y_test = train_test_split(X, y, test_size=0.3, random_state=random_state)\n"
   ]
  },
  {
   "cell_type": "code",
   "execution_count": 0,
   "metadata": {
    "colab": {},
    "colab_type": "code",
    "id": "MjyWum_9qYFM"
   },
   "outputs": [],
   "source": [
    "tfidf_vec = TfidfVectorizer(ngram_range=(2,2))\n",
    "X = tfidf_vec.fit_transform(df['postText'].values)\n",
    "y =  df['truthMean']\n",
    "X_train, X_test, y_train, y_test = train_test_split(X, y, test_size=0.3, random_state=random_state)"
   ]
  },
  {
   "cell_type": "code",
   "execution_count": 0,
   "metadata": {
    "colab": {
     "base_uri": "https://localhost:8080/",
     "height": 221
    },
    "colab_type": "code",
    "executionInfo": {
     "elapsed": 15760,
     "status": "ok",
     "timestamp": 1575379178355,
     "user": {
      "displayName": "Yuansheng Xie",
      "photoUrl": "",
      "userId": "02952600350336082848"
     },
     "user_tz": 300
    },
    "id": "tK_H9YRV9tb0",
    "outputId": "87e9eaaf-be17-430a-f5c9-fd3bb6fef615"
   },
   "outputs": [
    {
     "name": "stdout",
     "output_type": "stream",
     "text": [
      "              precision    recall  f1-score   support\n",
      "\n",
      "         0.0       0.78      0.99      0.87      4981\n",
      "         1.0       0.76      0.14      0.24      1619\n",
      "\n",
      "    accuracy                           0.78      6600\n",
      "   macro avg       0.77      0.56      0.56      6600\n",
      "weighted avg       0.77      0.78      0.72      6600\n",
      "\n",
      "MSE: 0.05138836346381614\n",
      "Accuracy: 0.7786363636363637\n",
      "linear svr tfidf total time: 15.455015420913696s.\n"
     ]
    }
   ],
   "source": [
    "postText_svr_start = time.time()\n",
    "postText_svr = LinearSVR(random_state=0, max_iter=100)\n",
    "postText_svr.fit(X_train[0:tot].toarray(), y_train[0:tot])\n",
    "postText_svr.fit(X_train[tot:].toarray(), y_train[tot:])\n",
    "postText_svr_preds = postText_svr.predict(X_test.toarray())\n",
    "print(classification_report(np.round(y_test), np.round(postText_svr_preds)))\n",
    "print(f'MSE: {mean_squared_error(y_test, postText_svr_preds)}')\n",
    "print(f'Accuracy: {accuracy_score(np.round(y_test), np.round(postText_svr_preds))}')\n",
    "print(f'linear svr tfidf total time: {time.time() - postText_svr_start}s.')"
   ]
  },
  {
   "cell_type": "code",
   "execution_count": 0,
   "metadata": {
    "colab": {
     "base_uri": "https://localhost:8080/",
     "height": 34
    },
    "colab_type": "code",
    "executionInfo": {
     "elapsed": 699,
     "status": "ok",
     "timestamp": 1575379535916,
     "user": {
      "displayName": "Yuansheng Xie",
      "photoUrl": "",
      "userId": "02952600350336082848"
     },
     "user_tz": 300
    },
    "id": "Wb6HKI0q6sQx",
    "outputId": "1957e963-2161-4ad3-b5cf-6e6400596c7e"
   },
   "outputs": [
    {
     "name": "stdout",
     "output_type": "stream",
     "text": [
      "['conceptwhat conceptwhat', 'the most', 'you have', 'the best', 'merica merica', 'you should', 'how to', 'people who', 'good qgood', 'are the']\n"
     ]
    }
   ],
   "source": [
    "postText_coefs = postText_svr.coef_\n",
    "postText_coefs_indices = np.argpartition(postText_coefs, -10)[-10:]\n",
    "top_feature_list = []\n",
    "for ind in postText_coefs_indices:\n",
    "    for key, val in tfidf_vec.vocabulary_.items():\n",
    "            if val == ind:\n",
    "                top_feature_list.append(key)\n",
    "print(top_feature_list)"
   ]
  },
  {
   "cell_type": "code",
   "execution_count": 0,
   "metadata": {
    "colab": {},
    "colab_type": "code",
    "id": "CACpF0xytZb_"
   },
   "outputs": [],
   "source": [
    "postText_logReg_start = time.time()\n",
    "postText_logReg = LogisticRegression(max_iter=100)\n",
    "postText_logReg.fit(X_train[0:tot].toarray(), np.vectorize(threshold)(y_train[0:tot]))\n",
    "postText_logReg.fit(X_train[tot:].toarray(), np.vectorize(threshold)(y_train[tot:]))\n",
    "postText_logReg_preds = postText_logReg.predict_proba(X_test.toarray())"
   ]
  },
  {
   "cell_type": "code",
   "execution_count": 0,
   "metadata": {
    "colab": {
     "base_uri": "https://localhost:8080/",
     "height": 221
    },
    "colab_type": "code",
    "executionInfo": {
     "elapsed": 33815,
     "status": "ok",
     "timestamp": 1575349781471,
     "user": {
      "displayName": "Yuansheng Xie",
      "photoUrl": "",
      "userId": "02952600350336082848"
     },
     "user_tz": 300
    },
    "id": "kCVbmOKkFgFA",
    "outputId": "0b2d12f8-8b2b-4d25-8dfe-8e2017066375"
   },
   "outputs": [
    {
     "name": "stdout",
     "output_type": "stream",
     "text": [
      "              precision    recall  f1-score   support\n",
      "\n",
      "           0       0.76      1.00      0.86      4981\n",
      "           1       0.78      0.02      0.04      1619\n",
      "\n",
      "    accuracy                           0.76      6600\n",
      "   macro avg       0.77      0.51      0.45      6600\n",
      "weighted avg       0.76      0.76      0.66      6600\n",
      "\n",
      "MSE: 0.06286607335062663\n",
      "Accuracy: 0.7584848484848485\n",
      "linear svr tfidf total time: 21.11372685432434s.\n"
     ]
    }
   ],
   "source": [
    "print(classification_report(np.vectorize(threshold)(y_test), np.vectorize(threshold)(postText_logReg_preds[:, 1])))\n",
    "print(f'MSE: {mean_squared_error(y_test, postText_logReg_preds[:, 1])}')\n",
    "print(f'Accuracy: {accuracy_score( np.vectorize(threshold)(y_test), np.vectorize(threshold)(postText_logReg_preds[:, 1]))}')\n",
    "print(f'log reg postText tfidf total time: {time.time() - postText_logReg_start}s.')"
   ]
  },
  {
   "cell_type": "code",
   "execution_count": 0,
   "metadata": {
    "colab": {},
    "colab_type": "code",
    "id": "bwh8iq7WtzjV"
   },
   "outputs": [],
   "source": [
    "tfidf_vectorizer = TfidfVectorizer(ngram_range=(2,2))\n",
    "X = tfidf_vectorizer.fit_transform(df['targetKeywords'].values)\n",
    "y =  df['truthMean']\n",
    "X_train, X_test, y_train, y_test = train_test_split(X, y, test_size=0.3, random_state=random_state)"
   ]
  },
  {
   "cell_type": "code",
   "execution_count": 0,
   "metadata": {
    "colab": {
     "base_uri": "https://localhost:8080/",
     "height": 221
    },
    "colab_type": "code",
    "executionInfo": {
     "elapsed": 10999,
     "status": "ok",
     "timestamp": 1575379592744,
     "user": {
      "displayName": "Yuansheng Xie",
      "photoUrl": "",
      "userId": "02952600350336082848"
     },
     "user_tz": 300
    },
    "id": "-aWQVAHM6Cvw",
    "outputId": "2a6d0eac-bf79-4dda-f501-3c3d5cfe23a9"
   },
   "outputs": [
    {
     "name": "stdout",
     "output_type": "stream",
     "text": [
      "              precision    recall  f1-score   support\n",
      "\n",
      "         0.0       0.77      0.99      0.86      4981\n",
      "         1.0       0.68      0.08      0.15      1619\n",
      "\n",
      "    accuracy                           0.77      6600\n",
      "   macro avg       0.73      0.53      0.51      6600\n",
      "weighted avg       0.75      0.77      0.69      6600\n",
      "\n",
      "MSE: 0.0599915237940072\n",
      "Accuracy: 0.7654545454545455\n",
      "linear svr keywords total time: 10.291276216506958s.\n"
     ]
    }
   ],
   "source": [
    "keywords_svr_start = time.time()\n",
    "keywords_svr = LinearSVR(random_state=0, max_iter=100)\n",
    "keywords_svr.fit(X_train[0:tot].toarray(), y_train[0:tot])\n",
    "keywords_svr.fit(X_train[tot:].toarray(), y_train[tot:])\n",
    "keywords_svr_preds = keywords_svr.predict(X_test.toarray())\n",
    "print(classification_report(np.round(y_test), np.round(keywords_svr_preds)))\n",
    "print(f'MSE: {mean_squared_error(y_test, keywords_svr_preds)}')\n",
    "print(f'Accuracy: {accuracy_score(np.round(y_test), np.round(keywords_svr_preds))}')\n",
    "print(f'linear svr keywords total time: {time.time() - keywords_svr_start}s.')\n"
   ]
  },
  {
   "cell_type": "code",
   "execution_count": 0,
   "metadata": {
    "colab": {
     "base_uri": "https://localhost:8080/",
     "height": 34
    },
    "colab_type": "code",
    "executionInfo": {
     "elapsed": 597,
     "status": "ok",
     "timestamp": 1575379647219,
     "user": {
      "displayName": "Yuansheng Xie",
      "photoUrl": "",
      "userId": "02952600350336082848"
     },
     "user_tz": 300
    },
    "id": "HUvM7YDl8Qtz",
    "outputId": "7470d03a-8655-4d1a-e65d-f8a8bdae54dd"
   },
   "outputs": [
    {
     "name": "stdout",
     "output_type": "stream",
     "text": [
      "['have giant', 'as science', 'florida child', 'app hing', 'app is', 'grandfathtim roth', 'as russia', 'as san', 'app that', 'as secret']\n"
     ]
    }
   ],
   "source": [
    "keywords_coefs = keywords_svr.coef_\n",
    "keywords_coefs_indices = np.argpartition(keywords_coefs, -10)[-10:]\n",
    "top_feature_list = []\n",
    "for ind in keywords_coefs_indices:\n",
    "    for key, val in tfidf_vec.vocabulary_.items():\n",
    "            if val == ind:\n",
    "                top_feature_list.append(key)\n",
    "print(top_feature_list)"
   ]
  },
  {
   "cell_type": "code",
   "execution_count": 0,
   "metadata": {
    "colab": {},
    "colab_type": "code",
    "id": "60Xf_yQG8LmM"
   },
   "outputs": [],
   "source": [
    "postText_coefs = postText_svr.coef_\n",
    "postText_coefs_indices = np.argpartition(postText_coefs, -10)[-10:]\n",
    "top_feature_list = []\n",
    "for ind in postText_coefs_indices:\n",
    "    for key, val in tfidf_vec.vocabulary_.items():\n",
    "            if val == ind:\n",
    "                top_feature_list.append(key)\n",
    "print(top_feature_list)"
   ]
  },
  {
   "cell_type": "code",
   "execution_count": 0,
   "metadata": {
    "colab": {
     "base_uri": "https://localhost:8080/",
     "height": 221
    },
    "colab_type": "code",
    "executionInfo": {
     "elapsed": 58245,
     "status": "ok",
     "timestamp": 1575349805918,
     "user": {
      "displayName": "Yuansheng Xie",
      "photoUrl": "",
      "userId": "02952600350336082848"
     },
     "user_tz": 300
    },
    "id": "QOWA5PRT4OEq",
    "outputId": "cda0baeb-9578-4baa-9643-d45d1ea00c8c"
   },
   "outputs": [
    {
     "name": "stdout",
     "output_type": "stream",
     "text": [
      "              precision    recall  f1-score   support\n",
      "\n",
      "           0       0.76      1.00      0.86      4981\n",
      "           1       0.85      0.02      0.04      1619\n",
      "\n",
      "    accuracy                           0.76      6600\n",
      "   macro avg       0.80      0.51      0.45      6600\n",
      "weighted avg       0.78      0.76      0.66      6600\n",
      "\n",
      "MSE: 0.06317275353788535\n",
      "Accuracy: 0.7589393939393939\n",
      "log reg keywords total time: 10.066035985946655s.\n"
     ]
    }
   ],
   "source": [
    "keywords_logReg_start = time.time()\n",
    "keywords_logReg = LogisticRegression(max_iter=100)\n",
    "keywords_logReg.fit(X_train[0:tot].toarray(), np.vectorize(threshold)(y_train[0:tot]))\n",
    "keywords_logReg.fit(X_train[tot:].toarray(), np.vectorize(threshold)(y_train[tot:]))\n",
    "keywords_logReg_preds = keywords_logReg.predict_proba(X_test.toarray())\n",
    "print(classification_report(np.vectorize(threshold)(y_test), np.vectorize(threshold)(keywords_logReg_preds[:, 1])))\n",
    "print(f'MSE: {mean_squared_error(y_test, keywords_logReg_preds[:, 1])}')\n",
    "print(f'Accuracy: {accuracy_score( np.vectorize(threshold)(y_test), np.vectorize(threshold)(keywords_logReg_preds[:, 1]))}')\n",
    "print(f'log reg keywords total time: {time.time() - keywords_logReg_start}s.')\n",
    "\n"
   ]
  },
  {
   "cell_type": "code",
   "execution_count": 0,
   "metadata": {
    "colab": {
     "base_uri": "https://localhost:8080/",
     "height": 231
    },
    "colab_type": "code",
    "executionInfo": {
     "elapsed": 796,
     "status": "error",
     "timestamp": 1575377944244,
     "user": {
      "displayName": "Yuansheng Xie",
      "photoUrl": "",
      "userId": "02952600350336082848"
     },
     "user_tz": 300
    },
    "id": "mO4qQz8djwIi",
    "outputId": "1f6c9d29-6109-4960-ebbb-46d7afc70e78"
   },
   "outputs": [
    {
     "ename": "NameError",
     "evalue": "ignored",
     "output_type": "error",
     "traceback": [
      "\u001b[0;31m---------------------------------------------------------------------------\u001b[0m",
      "\u001b[0;31mNameError\u001b[0m                                 Traceback (most recent call last)",
      "\u001b[0;32m<ipython-input-1-d93e6682fe74>\u001b[0m in \u001b[0;36m<module>\u001b[0;34m()\u001b[0m\n\u001b[0;32m----> 1\u001b[0;31m \u001b[0mSVC_start_time\u001b[0m \u001b[0;34m=\u001b[0m \u001b[0mtime\u001b[0m\u001b[0;34m.\u001b[0m\u001b[0mtime\u001b[0m\u001b[0;34m(\u001b[0m\u001b[0;34m)\u001b[0m\u001b[0;34m\u001b[0m\u001b[0;34m\u001b[0m\u001b[0m\n\u001b[0m\u001b[1;32m      2\u001b[0m \u001b[0mX\u001b[0m \u001b[0;34m=\u001b[0m \u001b[0mdf\u001b[0m\u001b[0;34m[\u001b[0m\u001b[0mconstructed_features\u001b[0m\u001b[0;34m]\u001b[0m\u001b[0;34m\u001b[0m\u001b[0;34m\u001b[0m\u001b[0m\n\u001b[1;32m      3\u001b[0m \u001b[0my\u001b[0m \u001b[0;34m=\u001b[0m \u001b[0mdf\u001b[0m\u001b[0;34m[\u001b[0m\u001b[0;34m'truthMean'\u001b[0m\u001b[0;34m]\u001b[0m\u001b[0;34m\u001b[0m\u001b[0;34m\u001b[0m\u001b[0m\n\u001b[1;32m      4\u001b[0m \u001b[0mX_train\u001b[0m\u001b[0;34m,\u001b[0m \u001b[0mX_test\u001b[0m\u001b[0;34m,\u001b[0m \u001b[0my_train\u001b[0m\u001b[0;34m,\u001b[0m \u001b[0my_test\u001b[0m \u001b[0;34m=\u001b[0m \u001b[0mtrain_test_split\u001b[0m\u001b[0;34m(\u001b[0m\u001b[0mX\u001b[0m\u001b[0;34m,\u001b[0m \u001b[0my\u001b[0m\u001b[0;34m,\u001b[0m \u001b[0mtest_size\u001b[0m\u001b[0;34m=\u001b[0m\u001b[0;36m0.3\u001b[0m\u001b[0;34m,\u001b[0m \u001b[0mrandom_state\u001b[0m\u001b[0;34m=\u001b[0m\u001b[0mrandom_state\u001b[0m\u001b[0;34m)\u001b[0m\u001b[0;34m\u001b[0m\u001b[0;34m\u001b[0m\u001b[0m\n\u001b[1;32m      5\u001b[0m \u001b[0mSVC_on_constructed\u001b[0m \u001b[0;34m=\u001b[0m \u001b[0mLinearSVC\u001b[0m\u001b[0;34m(\u001b[0m\u001b[0mdual\u001b[0m\u001b[0;34m=\u001b[0m\u001b[0;32mFalse\u001b[0m\u001b[0;34m,\u001b[0m \u001b[0mfit_intercept\u001b[0m\u001b[0;34m=\u001b[0m\u001b[0;32mTrue\u001b[0m\u001b[0;34m,\u001b[0m \u001b[0mC\u001b[0m\u001b[0;34m=\u001b[0m\u001b[0;36m1\u001b[0m\u001b[0;34m,\u001b[0m \u001b[0mloss\u001b[0m\u001b[0;34m=\u001b[0m\u001b[0;34m'squared_hinge'\u001b[0m\u001b[0;34m,\u001b[0m \u001b[0mmax_iter\u001b[0m\u001b[0;34m=\u001b[0m\u001b[0;36m2000\u001b[0m\u001b[0;34m,\u001b[0m \u001b[0mrandom_state\u001b[0m\u001b[0;34m=\u001b[0m\u001b[0;36m42\u001b[0m\u001b[0;34m)\u001b[0m\u001b[0;34m\u001b[0m\u001b[0;34m\u001b[0m\u001b[0m\n",
      "\u001b[0;31mNameError\u001b[0m: name 'time' is not defined"
     ]
    }
   ],
   "source": [
    "#linear SVC on constructed features\n",
    "SVC_start_time = time.time()\n",
    "X = df[constructed_features]\n",
    "y = df['truthMean']\n",
    "X_train, X_test, y_train, y_test = train_test_split(X, y, test_size=0.3, random_state=random_state)\n",
    "SVC_on_constructed = LinearSVC(dual=False, fit_intercept=True, C=1, loss='squared_hinge', max_iter=2000, random_state=42)\n",
    "SVC_on_constructed.fit(X_train, np.round(y_train))\n",
    "SVC_construct_preds = SVC_on_constructed.predict(X_test)\n",
    "print(classification_report(np.vectorize(threshold)(y_test), SVC_construct_preds))\n",
    "print(f'MSE: {mean_squared_error(y_test, SVC_construct_preds)}')\n",
    "print(f'Accuracy: {accuracy_score( np.vectorize(threshold)(y_test), SVC_construct_preds)}')\n",
    "print(f'Constructed feature: {time.time() - SVC_start_time}s.')"
   ]
  },
  {
   "cell_type": "code",
   "execution_count": 0,
   "metadata": {
    "colab": {
     "base_uri": "https://localhost:8080/",
     "height": 204
    },
    "colab_type": "code",
    "executionInfo": {
     "elapsed": 592,
     "status": "ok",
     "timestamp": 1575350602942,
     "user": {
      "displayName": "Yuansheng Xie",
      "photoUrl": "",
      "userId": "02952600350336082848"
     },
     "user_tz": 300
    },
    "id": "JECCzoD2leCN",
    "outputId": "e6db5c29-792c-4460-cdea-be23be27b4dd"
   },
   "outputs": [
    {
     "name": "stdout",
     "output_type": "stream",
     "text": [
      "              precision    recall  f1-score   support\n",
      "\n",
      "           0       0.82      0.95      0.88      4981\n",
      "           1       0.72      0.37      0.49      1619\n",
      "\n",
      "    accuracy                           0.81      6600\n",
      "   macro avg       0.77      0.66      0.69      6600\n",
      "weighted avg       0.80      0.81      0.79      6600\n",
      "\n",
      "Accuracy: 0.8104545454545454\n",
      "log reg keywords total time: 807.1724503040314s.\n"
     ]
    }
   ],
   "source": []
  }
 ],
 "metadata": {
  "colab": {
   "machine_shape": "hm",
   "name": "linear.ipynb",
   "provenance": []
  },
  "kernelspec": {
   "display_name": "Python 3",
   "language": "python",
   "name": "python3"
  },
  "language_info": {
   "codemirror_mode": {
    "name": "ipython",
    "version": 3
   },
   "file_extension": ".py",
   "mimetype": "text/x-python",
   "name": "python",
   "nbconvert_exporter": "python",
   "pygments_lexer": "ipython3",
   "version": "3.7.3"
  }
 },
 "nbformat": 4,
 "nbformat_minor": 1
}
