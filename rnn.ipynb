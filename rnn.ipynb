{
 "cells": [
  {
   "cell_type": "markdown",
   "metadata": {
    "colab_type": "text",
    "id": "8J3R0XMUVInI"
   },
   "source": [
    "RNN with bidirectional GRU. Run on collab with TPU for faster speed."
   ]
  },
  {
   "cell_type": "code",
   "execution_count": 0,
   "metadata": {
    "colab": {
     "base_uri": "https://localhost:8080/",
     "height": 819
    },
    "colab_type": "code",
    "executionInfo": {
     "elapsed": 4802,
     "status": "ok",
     "timestamp": 1575373583634,
     "user": {
      "displayName": "Yuansheng Xie",
      "photoUrl": "",
      "userId": "02952600350336082848"
     },
     "user_tz": 300
    },
    "id": "5GAwRapQjP2n",
    "outputId": "cb44ebf6-82f5-40ad-a2ce-8790eb8136e1"
   },
   "outputs": [
    {
     "name": "stderr",
     "output_type": "stream",
     "text": [
      "Using TensorFlow backend.\n",
      "/usr/local/lib/python3.6/dist-packages/tensorflow/python/framework/dtypes.py:516: FutureWarning: Passing (type, 1) or '1type' as a synonym of type is deprecated; in a future version of numpy, it will be understood as (type, (1,)) / '(1,)type'.\n",
      "  _np_qint8 = np.dtype([(\"qint8\", np.int8, 1)])\n",
      "/usr/local/lib/python3.6/dist-packages/tensorflow/python/framework/dtypes.py:517: FutureWarning: Passing (type, 1) or '1type' as a synonym of type is deprecated; in a future version of numpy, it will be understood as (type, (1,)) / '(1,)type'.\n",
      "  _np_quint8 = np.dtype([(\"quint8\", np.uint8, 1)])\n",
      "/usr/local/lib/python3.6/dist-packages/tensorflow/python/framework/dtypes.py:518: FutureWarning: Passing (type, 1) or '1type' as a synonym of type is deprecated; in a future version of numpy, it will be understood as (type, (1,)) / '(1,)type'.\n",
      "  _np_qint16 = np.dtype([(\"qint16\", np.int16, 1)])\n",
      "/usr/local/lib/python3.6/dist-packages/tensorflow/python/framework/dtypes.py:519: FutureWarning: Passing (type, 1) or '1type' as a synonym of type is deprecated; in a future version of numpy, it will be understood as (type, (1,)) / '(1,)type'.\n",
      "  _np_quint16 = np.dtype([(\"quint16\", np.uint16, 1)])\n",
      "/usr/local/lib/python3.6/dist-packages/tensorflow/python/framework/dtypes.py:520: FutureWarning: Passing (type, 1) or '1type' as a synonym of type is deprecated; in a future version of numpy, it will be understood as (type, (1,)) / '(1,)type'.\n",
      "  _np_qint32 = np.dtype([(\"qint32\", np.int32, 1)])\n",
      "/usr/local/lib/python3.6/dist-packages/tensorflow/python/framework/dtypes.py:525: FutureWarning: Passing (type, 1) or '1type' as a synonym of type is deprecated; in a future version of numpy, it will be understood as (type, (1,)) / '(1,)type'.\n",
      "  np_resource = np.dtype([(\"resource\", np.ubyte, 1)])\n",
      "/usr/local/lib/python3.6/dist-packages/tensorboard/compat/tensorflow_stub/dtypes.py:541: FutureWarning: Passing (type, 1) or '1type' as a synonym of type is deprecated; in a future version of numpy, it will be understood as (type, (1,)) / '(1,)type'.\n",
      "  _np_qint8 = np.dtype([(\"qint8\", np.int8, 1)])\n",
      "/usr/local/lib/python3.6/dist-packages/tensorboard/compat/tensorflow_stub/dtypes.py:542: FutureWarning: Passing (type, 1) or '1type' as a synonym of type is deprecated; in a future version of numpy, it will be understood as (type, (1,)) / '(1,)type'.\n",
      "  _np_quint8 = np.dtype([(\"quint8\", np.uint8, 1)])\n",
      "/usr/local/lib/python3.6/dist-packages/tensorboard/compat/tensorflow_stub/dtypes.py:543: FutureWarning: Passing (type, 1) or '1type' as a synonym of type is deprecated; in a future version of numpy, it will be understood as (type, (1,)) / '(1,)type'.\n",
      "  _np_qint16 = np.dtype([(\"qint16\", np.int16, 1)])\n",
      "/usr/local/lib/python3.6/dist-packages/tensorboard/compat/tensorflow_stub/dtypes.py:544: FutureWarning: Passing (type, 1) or '1type' as a synonym of type is deprecated; in a future version of numpy, it will be understood as (type, (1,)) / '(1,)type'.\n",
      "  _np_quint16 = np.dtype([(\"quint16\", np.uint16, 1)])\n",
      "/usr/local/lib/python3.6/dist-packages/tensorboard/compat/tensorflow_stub/dtypes.py:545: FutureWarning: Passing (type, 1) or '1type' as a synonym of type is deprecated; in a future version of numpy, it will be understood as (type, (1,)) / '(1,)type'.\n",
      "  _np_qint32 = np.dtype([(\"qint32\", np.int32, 1)])\n",
      "/usr/local/lib/python3.6/dist-packages/tensorboard/compat/tensorflow_stub/dtypes.py:550: FutureWarning: Passing (type, 1) or '1type' as a synonym of type is deprecated; in a future version of numpy, it will be understood as (type, (1,)) / '(1,)type'.\n",
      "  np_resource = np.dtype([(\"resource\", np.ubyte, 1)])\n"
     ]
    },
    {
     "name": "stdout",
     "output_type": "stream",
     "text": [
      "Drive already mounted at /content/drive; to attempt to forcibly remount, call drive.mount(\"/content/drive\", force_remount=True).\n",
      "Requirement already satisfied: tensorflow==2.0.0-beta1 in /usr/local/lib/python3.6/dist-packages (2.0.0b1)\n",
      "Requirement already satisfied: tf-estimator-nightly<1.14.0.dev2019060502,>=1.14.0.dev2019060501 in /usr/local/lib/python3.6/dist-packages (from tensorflow==2.0.0-beta1) (1.14.0.dev2019060501)\n",
      "Requirement already satisfied: wheel>=0.26 in /usr/local/lib/python3.6/dist-packages (from tensorflow==2.0.0-beta1) (0.33.6)\n",
      "Requirement already satisfied: protobuf>=3.6.1 in /usr/local/lib/python3.6/dist-packages (from tensorflow==2.0.0-beta1) (3.10.0)\n",
      "Requirement already satisfied: wrapt>=1.11.1 in /usr/local/lib/python3.6/dist-packages (from tensorflow==2.0.0-beta1) (1.11.2)\n",
      "Requirement already satisfied: astor>=0.6.0 in /usr/local/lib/python3.6/dist-packages (from tensorflow==2.0.0-beta1) (0.8.0)\n",
      "Requirement already satisfied: termcolor>=1.1.0 in /usr/local/lib/python3.6/dist-packages (from tensorflow==2.0.0-beta1) (1.1.0)\n",
      "Requirement already satisfied: google-pasta>=0.1.6 in /usr/local/lib/python3.6/dist-packages (from tensorflow==2.0.0-beta1) (0.1.8)\n",
      "Requirement already satisfied: numpy<2.0,>=1.14.5 in /usr/local/lib/python3.6/dist-packages (from tensorflow==2.0.0-beta1) (1.17.4)\n",
      "Requirement already satisfied: tb-nightly<1.14.0a20190604,>=1.14.0a20190603 in /usr/local/lib/python3.6/dist-packages (from tensorflow==2.0.0-beta1) (1.14.0a20190603)\n",
      "Requirement already satisfied: grpcio>=1.8.6 in /usr/local/lib/python3.6/dist-packages (from tensorflow==2.0.0-beta1) (1.15.0)\n",
      "Requirement already satisfied: six>=1.10.0 in /usr/local/lib/python3.6/dist-packages (from tensorflow==2.0.0-beta1) (1.12.0)\n",
      "Requirement already satisfied: gast>=0.2.0 in /usr/local/lib/python3.6/dist-packages (from tensorflow==2.0.0-beta1) (0.2.2)\n",
      "Requirement already satisfied: absl-py>=0.7.0 in /usr/local/lib/python3.6/dist-packages (from tensorflow==2.0.0-beta1) (0.8.1)\n",
      "Requirement already satisfied: keras-applications>=1.0.6 in /usr/local/lib/python3.6/dist-packages (from tensorflow==2.0.0-beta1) (1.0.8)\n",
      "Requirement already satisfied: keras-preprocessing>=1.0.5 in /usr/local/lib/python3.6/dist-packages (from tensorflow==2.0.0-beta1) (1.1.0)\n",
      "Requirement already satisfied: setuptools in /usr/local/lib/python3.6/dist-packages (from protobuf>=3.6.1->tensorflow==2.0.0-beta1) (41.6.0)\n",
      "Requirement already satisfied: werkzeug>=0.11.15 in /usr/local/lib/python3.6/dist-packages (from tb-nightly<1.14.0a20190604,>=1.14.0a20190603->tensorflow==2.0.0-beta1) (0.16.0)\n",
      "Requirement already satisfied: markdown>=2.6.8 in /usr/local/lib/python3.6/dist-packages (from tb-nightly<1.14.0a20190604,>=1.14.0a20190603->tensorflow==2.0.0-beta1) (3.1.1)\n",
      "Requirement already satisfied: h5py in /usr/local/lib/python3.6/dist-packages (from keras-applications>=1.0.6->tensorflow==2.0.0-beta1) (2.8.0)\n"
     ]
    }
   ],
   "source": [
    "import io\n",
    "import time\n",
    "import re\n",
    "import numpy as np\n",
    "import pandas as pd\n",
    "from sklearn.model_selection import cross_validate\n",
    "from sklearn.feature_extraction.text import TfidfVectorizer\n",
    "from sklearn.feature_extraction.text import CountVectorizer\n",
    "from sklearn.model_selection import train_test_split\n",
    "from sklearn.metrics import accuracy_score\n",
    "from sklearn.metrics import mean_squared_error\n",
    "from sklearn.metrics import f1_score\n",
    "from sklearn.metrics import precision_score\n",
    "from sklearn.metrics import recall_score\n",
    "from sklearn.metrics import classification_report\n",
    "from keras.preprocessing.text import one_hot\n",
    "from keras.preprocessing.sequence import pad_sequences\n",
    "from keras.preprocessing.text import Tokenizer\n",
    "import keras.backend as K\n",
    "import tensorflow as tf\n",
    "from tensorflow.keras import layers\n",
    "\n",
    "!pip install tensorflow==2.0.0-beta1"
   ]
  },
  {
   "cell_type": "code",
   "execution_count": 0,
   "metadata": {
    "colab": {},
    "colab_type": "code",
    "id": "42sFZ_dzwxSh"
   },
   "outputs": [],
   "source": [
    "df = pd.read_csv('data/prepped/prepped.csv')\n",
    "df['postText'] = df['postText'].transform(lambda x: np.str_(x))"
   ]
  },
  {
   "cell_type": "code",
   "execution_count": 0,
   "metadata": {
    "colab": {
     "base_uri": "https://localhost:8080/",
     "height": 51
    },
    "colab_type": "code",
    "executionInfo": {
     "elapsed": 4837,
     "status": "ok",
     "timestamp": 1575373592033,
     "user": {
      "displayName": "Yuansheng Xie",
      "photoUrl": "",
      "userId": "02952600350336082848"
     },
     "user_tz": 300
    },
    "id": "zGVr92wEPk1_",
    "outputId": "2094f393-6b1d-45af-d8b7-625544900c7f"
   },
   "outputs": [
    {
     "name": "stdout",
     "output_type": "stream",
     "text": [
      "max length 100\n",
      "vocab size 9042\n"
     ]
    }
   ],
   "source": [
    "# Encode documents\n",
    "tokenizer = Tokenizer()\n",
    "tokenizer.fit_on_texts(df['postText'])\n",
    "max_length = 100 #max(len(p) for p in df['postText'])\n",
    "vocab_size = 9042 #len(tokenizer.word_index) + 1\n",
    "encoded_docs = [one_hot(d, vocab_size) for d in df['postText']]\n",
    "padded_docs = pad_sequences(encoded_docs, maxlen=max_length, padding='post')\n",
    "print(f'max length {max_length}')\n",
    "print(f'vocab size {vocab_size}')"
   ]
  },
  {
   "cell_type": "code",
   "execution_count": 0,
   "metadata": {
    "colab": {
     "base_uri": "https://localhost:8080/",
     "height": 34
    },
    "colab_type": "code",
    "executionInfo": {
     "elapsed": 14832,
     "status": "ok",
     "timestamp": 1575373603921,
     "user": {
      "displayName": "Yuansheng Xie",
      "photoUrl": "",
      "userId": "02952600350336082848"
     },
     "user_tz": 300
    },
    "id": "nBWcVYK01SVr",
    "outputId": "7c19cdea-f910-442b-be12-cee79fe91379"
   },
   "outputs": [
    {
     "name": "stdout",
     "output_type": "stream",
     "text": [
      "Loaded 400000 word vectors.\n"
     ]
    }
   ],
   "source": [
    "embeddings_index = dict()\n",
    "f = open('/content/drive/My Drive/ipython notebooks/Embeddings/GloVe/glove.6B.100d.txt')\n",
    "for line in f:\n",
    "\tvalues = line.split()\n",
    "\tword = values[0]\n",
    "\tcoefs = np.asarray(values[1:], dtype='float32')\n",
    "\tembeddings_index[word] = coefs\n",
    "f.close()\n",
    "print('Loaded %s word vectors.' % len(embeddings_index))"
   ]
  },
  {
   "cell_type": "code",
   "execution_count": 0,
   "metadata": {
    "colab": {},
    "colab_type": "code",
    "id": "sA29RS0P5fIr"
   },
   "outputs": [],
   "source": [
    "embedding_matrix = np.zeros((vocab_size, 100))\n",
    "\n",
    "for word, i in tokenizer.word_index.items():\n",
    "    if i >= vocab_size:\n",
    "        break\n",
    "    embedding_vector = embeddings_index.get(word)\n",
    "    if embedding_vector is not None:\n",
    "        embedding_matrix[i] = embedding_vector\n",
    "\n",
    "X_train, X_test, y_train, y_test = train_test_split(padded_docs, df['truthMean'], test_size=0.3, random_state=42, stratify=np.round(df['truthMean']))\n",
    "y_train_bool = np.round(y_train)\n",
    "y_test_bool = np.round(y_test)"
   ]
  },
  {
   "cell_type": "code",
   "execution_count": 0,
   "metadata": {
    "colab": {
     "base_uri": "https://localhost:8080/",
     "height": 306
    },
    "colab_type": "code",
    "executionInfo": {
     "elapsed": 1777,
     "status": "ok",
     "timestamp": 1575263185606,
     "user": {
      "displayName": "Yuansheng Xie",
      "photoUrl": "",
      "userId": "02952600350336082848"
     },
     "user_tz": 300
    },
    "id": "hFOLb3XE77xE",
    "outputId": "6cc61660-a768-42f9-ebc0-91c15bf8b2f4"
   },
   "outputs": [
    {
     "name": "stdout",
     "output_type": "stream",
     "text": [
      "Model: \"sequential_10\"\n",
      "_________________________________________________________________\n",
      "Layer (type)                 Output Shape              Param #   \n",
      "=================================================================\n",
      "embedding_10 (Embedding)     (None, 100, 100)          904200    \n",
      "_________________________________________________________________\n",
      "bidirectional_10 (Bidirectio (None, 32)                11328     \n",
      "_________________________________________________________________\n",
      "flatten_10 (Flatten)         (None, 32)                0         \n",
      "_________________________________________________________________\n",
      "dense_10 (Dense)             (None, 1)                 33        \n",
      "=================================================================\n",
      "Total params: 915,561\n",
      "Trainable params: 915,561\n",
      "Non-trainable params: 0\n",
      "_________________________________________________________________\n",
      "None\n"
     ]
    }
   ],
   "source": [
    "# bidirection GRU with pretrained 100d Glove embedding\n",
    "model_gru_glove = tf.keras.Sequential()\n",
    "model_gru_glove.add(layers.Embedding(vocab_size, 100, weights=[embedding_matrix], trainable=True, input_length=max_length))\n",
    "model_gru_glove.add(layers.Bidirectional(layers.GRU(16, return_sequences=False)))\n",
    "model_gru_glove.add(layers.Flatten())\n",
    "model_gru_glove.add(layers.Dense(1, activation='sigmoid'))\n",
    "model_gru_glove.compile(optimizer='adam', loss='mean_squared_error', metrics=['mse', 'accuracy'])\n",
    "print(model_gru_glove.summary())\n"
   ]
  },
  {
   "cell_type": "code",
   "execution_count": 0,
   "metadata": {
    "colab": {
     "base_uri": "https://localhost:8080/",
     "height": 153
    },
    "colab_type": "code",
    "executionInfo": {
     "elapsed": 179011,
     "status": "ok",
     "timestamp": 1575263532479,
     "user": {
      "displayName": "Yuansheng Xie",
      "photoUrl": "",
      "userId": "02952600350336082848"
     },
     "user_tz": 300
    },
    "id": "lOD94rMC8c3A",
    "outputId": "d1cf30ff-ac30-4759-e304-ff3c2973c182"
   },
   "outputs": [
    {
     "name": "stdout",
     "output_type": "stream",
     "text": [
      "Train on 15397 samples, validate on 6600 samples\n",
      "Epoch 1/3\n",
      "15397/15397 [==============================] - 60s 4ms/sample - loss: 0.0524 - mse: 0.0524 - accuracy: 0.0888 - val_loss: 0.0420 - val_mse: 0.0420 - val_accuracy: 0.0977\n",
      "Epoch 2/3\n",
      "15397/15397 [==============================] - 58s 4ms/sample - loss: 0.0352 - mse: 0.0352 - accuracy: 0.0928 - val_loss: 0.0398 - val_mse: 0.0398 - val_accuracy: 0.0983\n",
      "Epoch 3/3\n",
      "15397/15397 [==============================] - 58s 4ms/sample - loss: 0.0273 - mse: 0.0273 - accuracy: 0.0936 - val_loss: 0.0419 - val_mse: 0.0419 - val_accuracy: 0.0970\n"
     ]
    },
    {
     "data": {
      "text/plain": [
       "<tensorflow.python.keras.callbacks.History at 0x7feca66f7240>"
      ]
     },
     "execution_count": 56,
     "metadata": {
      "tags": []
     },
     "output_type": "execute_result"
    }
   ],
   "source": [
    "model_gru_glove.fit(X_train, y_train, epochs = 5, validation_data=[X_test, y_test])"
   ]
  },
  {
   "cell_type": "code",
   "execution_count": 0,
   "metadata": {
    "colab": {
     "base_uri": "https://localhost:8080/",
     "height": 187
    },
    "colab_type": "code",
    "executionInfo": {
     "elapsed": 10910,
     "status": "ok",
     "timestamp": 1575265235373,
     "user": {
      "displayName": "Yuansheng Xie",
      "photoUrl": "",
      "userId": "02952600350336082848"
     },
     "user_tz": 300
    },
    "id": "tMu67OxNBQpN",
    "outputId": "74268810-32c5-426e-e975-634f01c45b9c"
   },
   "outputs": [
    {
     "name": "stdout",
     "output_type": "stream",
     "text": [
      "              precision    recall  f1-score   support\n",
      "\n",
      "         0.0       0.86      0.90      0.88      4965\n",
      "         1.0       0.65      0.57      0.61      1635\n",
      "\n",
      "    accuracy                           0.82      6600\n",
      "   macro avg       0.76      0.74      0.74      6600\n",
      "weighted avg       0.81      0.82      0.81      6600\n",
      "\n",
      "Accuracy: 0.8172727272727273\n"
     ]
    }
   ],
   "source": [
    "y_pred_bool = np.round(model_gru_glove.predict(X_test))\n",
    "print(classification_report(y_test_bool, y_pred_bool))\n",
    "print(f'Accuracy: {accuracy_score(y_test_bool, y_pred_bool)}')\n"
   ]
  },
  {
   "cell_type": "code",
   "execution_count": 0,
   "metadata": {
    "colab": {
     "base_uri": "https://localhost:8080/",
     "height": 306
    },
    "colab_type": "code",
    "executionInfo": {
     "elapsed": 1678,
     "status": "ok",
     "timestamp": 1575263881026,
     "user": {
      "displayName": "Yuansheng Xie",
      "photoUrl": "",
      "userId": "02952600350336082848"
     },
     "user_tz": 300
    },
    "id": "w-Eypu9-xdwc",
    "outputId": "d41e0e88-3663-4619-d043-5efd62dfb1b7"
   },
   "outputs": [
    {
     "name": "stdout",
     "output_type": "stream",
     "text": [
      "Model: \"sequential_7\"\n",
      "_________________________________________________________________\n",
      "Layer (type)                 Output Shape              Param #   \n",
      "=================================================================\n",
      "embedding_7 (Embedding)      (None, 100, 100)          904200    \n",
      "_________________________________________________________________\n",
      "bidirectional_7 (Bidirection (None, 32)                11328     \n",
      "_________________________________________________________________\n",
      "flatten_7 (Flatten)          (None, 32)                0         \n",
      "_________________________________________________________________\n",
      "dense_7 (Dense)              (None, 1)                 33        \n",
      "=================================================================\n",
      "Total params: 915,561\n",
      "Trainable params: 915,561\n",
      "Non-trainable params: 0\n",
      "_________________________________________________________________\n",
      "None\n"
     ]
    }
   ],
   "source": [
    "# bidirection GRU\n",
    "model_gru_no_glove = tf.keras.Sequential()\n",
    "model_gru_no_glove.add(layers.Embedding(vocab_size, 100, input_length=max_length))\n",
    "model_gru_no_glove.add(layers.Bidirectional(layers.GRU(16, return_sequences=False)))\n",
    "model_gru_no_glove.add(layers.Flatten())\n",
    "model_gru_no_glove.add(layers.Dense(1, activation='sigmoid'))\n",
    "model_gru_no_glove.compile(optimizer='adam', loss='mean_squared_error', metrics=['mse', 'accuracy'])\n",
    "print(model_gru_no_glove.summary())\n"
   ]
  },
  {
   "cell_type": "code",
   "execution_count": 0,
   "metadata": {
    "colab": {
     "base_uri": "https://localhost:8080/",
     "height": 153
    },
    "colab_type": "code",
    "executionInfo": {
     "elapsed": 178626,
     "status": "ok",
     "timestamp": 1575264086277,
     "user": {
      "displayName": "Yuansheng Xie",
      "photoUrl": "",
      "userId": "02952600350336082848"
     },
     "user_tz": 300
    },
    "id": "D4C1Q5CaTrGU",
    "outputId": "82c724b5-4959-4f57-ba7d-e75ccd5dd285"
   },
   "outputs": [
    {
     "name": "stdout",
     "output_type": "stream",
     "text": [
      "Train on 15397 samples, validate on 6600 samples\n",
      "Epoch 1/3\n",
      "15397/15397 [==============================] - 61s 4ms/sample - loss: 0.0439 - mse: 0.0439 - accuracy: 0.0911 - val_loss: 0.0383 - val_mse: 0.0383 - val_accuracy: 0.0982\n",
      "Epoch 2/3\n",
      "15397/15397 [==============================] - 58s 4ms/sample - loss: 0.0279 - mse: 0.0279 - accuracy: 0.0933 - val_loss: 0.0412 - val_mse: 0.0412 - val_accuracy: 0.0971\n",
      "Epoch 3/3\n",
      "15397/15397 [==============================] - 58s 4ms/sample - loss: 0.0189 - mse: 0.0189 - accuracy: 0.0942 - val_loss: 0.0450 - val_mse: 0.0450 - val_accuracy: 0.0958\n"
     ]
    },
    {
     "data": {
      "text/plain": [
       "<tensorflow.python.keras.callbacks.History at 0x7feca40df940>"
      ]
     },
     "execution_count": 64,
     "metadata": {
      "tags": []
     },
     "output_type": "execute_result"
    }
   ],
   "source": [
    "model_gru_no_glove.fit(X_train, y_train, epochs = 3, validation_data=[X_test, y_test])\n"
   ]
  },
  {
   "cell_type": "code",
   "execution_count": 0,
   "metadata": {
    "colab": {
     "base_uri": "https://localhost:8080/",
     "height": 187
    },
    "colab_type": "code",
    "executionInfo": {
     "elapsed": 11063,
     "status": "ok",
     "timestamp": 1575265239829,
     "user": {
      "displayName": "Yuansheng Xie",
      "photoUrl": "",
      "userId": "02952600350336082848"
     },
     "user_tz": 300
    },
    "id": "Jen9E50pC-lS",
    "outputId": "23db3f23-0283-47de-a4ba-3b3717118096"
   },
   "outputs": [
    {
     "name": "stdout",
     "output_type": "stream",
     "text": [
      "              precision    recall  f1-score   support\n",
      "\n",
      "         0.0       0.85      0.90      0.87      4965\n",
      "         1.0       0.63      0.51      0.57      1635\n",
      "\n",
      "    accuracy                           0.81      6600\n",
      "   macro avg       0.74      0.71      0.72      6600\n",
      "weighted avg       0.79      0.81      0.80      6600\n",
      "\n",
      "Accuracy: 0.805\n"
     ]
    }
   ],
   "source": [
    "y_pred_bool = np.round(model_gru_no_glove.predict(X_test))\n",
    "print(classification_report(y_test_bool, y_pred_bool))\n",
    "print(f'Accuracy: {accuracy_score(y_test_bool, y_pred_bool)}')\n"
   ]
  },
  {
   "cell_type": "code",
   "execution_count": 0,
   "metadata": {
    "colab": {
     "base_uri": "https://localhost:8080/",
     "height": 306
    },
    "colab_type": "code",
    "executionInfo": {
     "elapsed": 1773,
     "status": "ok",
     "timestamp": 1575264177548,
     "user": {
      "displayName": "Yuansheng Xie",
      "photoUrl": "",
      "userId": "02952600350336082848"
     },
     "user_tz": 300
    },
    "id": "BqHSCJMi4QX1",
    "outputId": "76b040e3-88ef-4496-d806-c6f049fc732c"
   },
   "outputs": [
    {
     "name": "stdout",
     "output_type": "stream",
     "text": [
      "Model: \"sequential_2\"\n",
      "_________________________________________________________________\n",
      "Layer (type)                 Output Shape              Param #   \n",
      "=================================================================\n",
      "embedding_2 (Embedding)      (None, 100, 100)          904200    \n",
      "_________________________________________________________________\n",
      "bidirectional_2 (Bidirection (None, 32)                14976     \n",
      "_________________________________________________________________\n",
      "flatten_2 (Flatten)          (None, 32)                0         \n",
      "_________________________________________________________________\n",
      "dense_2 (Dense)              (None, 1)                 33        \n",
      "=================================================================\n",
      "Total params: 919,209\n",
      "Trainable params: 919,209\n",
      "Non-trainable params: 0\n",
      "_________________________________________________________________\n",
      "None\n"
     ]
    }
   ],
   "source": [
    "# bidirection LSTM glove embedding\n",
    "lstm_glove = tf.keras.Sequential()\n",
    "lstm_glove.add(layers.Embedding(vocab_size, 100, weights=[embedding_matrix], input_length=max_length, trainable=True))\n",
    "lstm_glove.add(layers.Bidirectional(layers.LSTM(16, return_sequences=False)))\n",
    "lstm_glove.add(layers.Flatten())\n",
    "lstm_glove.add(layers.Dense(1, activation='sigmoid'))\n",
    "lstm_glove.compile(optimizer='adam', loss='mean_squared_error', metrics=['mse', 'accuracy'])\n",
    "print(lstm_glove.summary())"
   ]
  },
  {
   "cell_type": "code",
   "execution_count": 0,
   "metadata": {
    "colab": {
     "base_uri": "https://localhost:8080/",
     "height": 153
    },
    "colab_type": "code",
    "executionInfo": {
     "elapsed": 168689,
     "status": "ok",
     "timestamp": 1575264347721,
     "user": {
      "displayName": "Yuansheng Xie",
      "photoUrl": "",
      "userId": "02952600350336082848"
     },
     "user_tz": 300
    },
    "id": "bYdN_REGkpdk",
    "outputId": "aa1be5e0-30ae-477b-e29c-e7d33bb41eb6"
   },
   "outputs": [
    {
     "name": "stdout",
     "output_type": "stream",
     "text": [
      "Train on 15397 samples, validate on 6600 samples\n",
      "Epoch 1/3\n",
      "15397/15397 [==============================] - 57s 4ms/sample - loss: 0.0495 - mse: 0.0495 - accuracy: 0.0896 - val_loss: 0.0424 - val_mse: 0.0424 - val_accuracy: 0.0980\n",
      "Epoch 2/3\n",
      "15397/15397 [==============================] - 55s 4ms/sample - loss: 0.0343 - mse: 0.0343 - accuracy: 0.0928 - val_loss: 0.0399 - val_mse: 0.0399 - val_accuracy: 0.0979\n",
      "Epoch 3/3\n",
      "15397/15397 [==============================] - 55s 4ms/sample - loss: 0.0269 - mse: 0.0269 - accuracy: 0.0938 - val_loss: 0.0420 - val_mse: 0.0420 - val_accuracy: 0.0953\n"
     ]
    },
    {
     "data": {
      "text/plain": [
       "<tensorflow.python.keras.callbacks.History at 0x7fec98da74e0>"
      ]
     },
     "execution_count": 69,
     "metadata": {
      "tags": []
     },
     "output_type": "execute_result"
    }
   ],
   "source": [
    "lstm_glove.fit(X_train, y_train, epochs = 3, validation_data=[X_test, y_test])"
   ]
  },
  {
   "cell_type": "code",
   "execution_count": 0,
   "metadata": {
    "colab": {
     "base_uri": "https://localhost:8080/",
     "height": 187
    },
    "colab_type": "code",
    "executionInfo": {
     "elapsed": 7851,
     "status": "ok",
     "timestamp": 1575265255695,
     "user": {
      "displayName": "Yuansheng Xie",
      "photoUrl": "",
      "userId": "02952600350336082848"
     },
     "user_tz": 300
    },
    "id": "NZKmujwem_6R",
    "outputId": "df2c91c7-204d-4f59-d987-6749404a65d7"
   },
   "outputs": [
    {
     "name": "stdout",
     "output_type": "stream",
     "text": [
      "              precision    recall  f1-score   support\n",
      "\n",
      "         0.0       0.86      0.89      0.87      4965\n",
      "         1.0       0.63      0.58      0.60      1635\n",
      "\n",
      "    accuracy                           0.81      6600\n",
      "   macro avg       0.74      0.73      0.74      6600\n",
      "weighted avg       0.80      0.81      0.81      6600\n",
      "\n",
      "Accuracy: 0.8093939393939394\n"
     ]
    }
   ],
   "source": [
    "y_pred_bool = np.round(lstm_glove.predict(X_test))\n",
    "print(classification_report(y_test_bool, y_pred_bool))\n",
    "print(f'Accuracy: {accuracy_score(y_test_bool, y_pred_bool)}')\n"
   ]
  },
  {
   "cell_type": "code",
   "execution_count": 0,
   "metadata": {
    "colab": {
     "base_uri": "https://localhost:8080/",
     "height": 306
    },
    "colab_type": "code",
    "executionInfo": {
     "elapsed": 2762,
     "status": "ok",
     "timestamp": 1575373644991,
     "user": {
      "displayName": "Yuansheng Xie",
      "photoUrl": "",
      "userId": "02952600350336082848"
     },
     "user_tz": 300
    },
    "id": "ow94ZWQIDyz_",
    "outputId": "9c9a83fd-ad51-434f-bfce-a1bdd4ef9159"
   },
   "outputs": [
    {
     "name": "stdout",
     "output_type": "stream",
     "text": [
      "Model: \"sequential\"\n",
      "_________________________________________________________________\n",
      "Layer (type)                 Output Shape              Param #   \n",
      "=================================================================\n",
      "embedding (Embedding)        (None, 100, 100)          904200    \n",
      "_________________________________________________________________\n",
      "bidirectional (Bidirectional (None, 32)                14976     \n",
      "_________________________________________________________________\n",
      "flatten (Flatten)            (None, 32)                0         \n",
      "_________________________________________________________________\n",
      "dense (Dense)                (None, 1)                 33        \n",
      "=================================================================\n",
      "Total params: 919,209\n",
      "Trainable params: 919,209\n",
      "Non-trainable params: 0\n",
      "_________________________________________________________________\n",
      "None\n"
     ]
    }
   ],
   "source": [
    "# bidirection LSTM\n",
    "lstm_no_glove = tf.keras.Sequential()\n",
    "lstm_no_glove.add(layers.Embedding(vocab_size, 100, input_length=max_length))\n",
    "lstm_no_glove.add(layers.Bidirectional(layers.LSTM(16, return_sequences=False)))\n",
    "lstm_no_glove.add(layers.Flatten())\n",
    "lstm_no_glove.add(layers.Dense(1, activation='sigmoid'))\n",
    "lstm_no_glove.compile(optimizer='adam', loss='mean_squared_error', metrics=['mse', 'accuracy'])\n",
    "print(lstm_no_glove.summary())\n"
   ]
  },
  {
   "cell_type": "code",
   "execution_count": 0,
   "metadata": {
    "colab": {
     "base_uri": "https://localhost:8080/",
     "height": 153
    },
    "colab_type": "code",
    "executionInfo": {
     "elapsed": 164185,
     "status": "ok",
     "timestamp": 1575373810449,
     "user": {
      "displayName": "Yuansheng Xie",
      "photoUrl": "",
      "userId": "02952600350336082848"
     },
     "user_tz": 300
    },
    "id": "Xo2s1vNNEFJy",
    "outputId": "c4dea810-ab52-4942-a1f5-026131365971"
   },
   "outputs": [
    {
     "name": "stdout",
     "output_type": "stream",
     "text": [
      "Train on 15397 samples, validate on 6600 samples\n",
      "Epoch 1/3\n",
      "15397/15397 [==============================] - 55s 4ms/sample - loss: 0.0434 - mse: 0.0434 - accuracy: 0.0916 - val_loss: 0.0384 - val_mse: 0.0384 - val_accuracy: 0.0988\n",
      "Epoch 2/3\n",
      "15397/15397 [==============================] - 54s 3ms/sample - loss: 0.0277 - mse: 0.0277 - accuracy: 0.0937 - val_loss: 0.0403 - val_mse: 0.0403 - val_accuracy: 0.0979\n",
      "Epoch 3/3\n",
      "15397/15397 [==============================] - 54s 3ms/sample - loss: 0.0187 - mse: 0.0187 - accuracy: 0.0942 - val_loss: 0.0452 - val_mse: 0.0452 - val_accuracy: 0.0979\n"
     ]
    },
    {
     "data": {
      "text/plain": [
       "<tensorflow.python.keras.callbacks.History at 0x7efd490210f0>"
      ]
     },
     "execution_count": 8,
     "metadata": {
      "tags": []
     },
     "output_type": "execute_result"
    }
   ],
   "source": [
    "lstm_no_glove.fit(X_train, y_train, epochs = 3, validation_data=[X_test, y_test])"
   ]
  },
  {
   "cell_type": "code",
   "execution_count": 0,
   "metadata": {
    "colab": {
     "base_uri": "https://localhost:8080/",
     "height": 826
    },
    "colab_type": "code",
    "executionInfo": {
     "elapsed": 788,
     "status": "error",
     "timestamp": 1575373560457,
     "user": {
      "displayName": "Yuansheng Xie",
      "photoUrl": "",
      "userId": "02952600350336082848"
     },
     "user_tz": 300
    },
    "id": "YvIlt8Z1EPEp",
    "outputId": "17c25d7e-67f6-4169-b2b7-207e34f850a8"
   },
   "outputs": [
    {
     "name": "stderr",
     "output_type": "stream",
     "text": [
      "ERROR:root:Internal Python error in the inspect module.\n",
      "Below is the traceback from this internal error.\n",
      "\n"
     ]
    },
    {
     "name": "stdout",
     "output_type": "stream",
     "text": [
      "Traceback (most recent call last):\n",
      "  File \"/usr/local/lib/python3.6/dist-packages/IPython/core/interactiveshell.py\", line 2882, in run_code\n",
      "    exec(code_obj, self.user_global_ns, self.user_ns)\n",
      "  File \"<ipython-input-11-ffd5b2a4cd45>\", line 1, in <module>\n",
      "    y_pred_bool = np.round(lstm_no_glove.predict(X_test))\n",
      "NameError: name 'X_test' is not defined\n",
      "\n",
      "During handling of the above exception, another exception occurred:\n",
      "\n",
      "Traceback (most recent call last):\n",
      "  File \"/usr/local/lib/python3.6/dist-packages/IPython/core/interactiveshell.py\", line 1823, in showtraceback\n",
      "    stb = value._render_traceback_()\n",
      "AttributeError: 'NameError' object has no attribute '_render_traceback_'\n",
      "\n",
      "During handling of the above exception, another exception occurred:\n",
      "\n",
      "Traceback (most recent call last):\n",
      "  File \"/usr/local/lib/python3.6/dist-packages/IPython/core/ultratb.py\", line 1132, in get_records\n",
      "    return _fixed_getinnerframes(etb, number_of_lines_of_context, tb_offset)\n",
      "  File \"/usr/local/lib/python3.6/dist-packages/IPython/core/ultratb.py\", line 313, in wrapped\n",
      "    return f(*args, **kwargs)\n",
      "  File \"/usr/local/lib/python3.6/dist-packages/IPython/core/ultratb.py\", line 358, in _fixed_getinnerframes\n",
      "    records = fix_frame_records_filenames(inspect.getinnerframes(etb, context))\n",
      "  File \"/usr/lib/python3.6/inspect.py\", line 1490, in getinnerframes\n",
      "    frameinfo = (tb.tb_frame,) + getframeinfo(tb, context)\n",
      "  File \"/usr/lib/python3.6/inspect.py\", line 1448, in getframeinfo\n",
      "    filename = getsourcefile(frame) or getfile(frame)\n",
      "  File \"/usr/lib/python3.6/inspect.py\", line 696, in getsourcefile\n",
      "    if getattr(getmodule(object, filename), '__loader__', None) is not None:\n",
      "  File \"/usr/lib/python3.6/inspect.py\", line 733, in getmodule\n",
      "    if ismodule(module) and hasattr(module, '__file__'):\n",
      "  File \"/usr/local/lib/python3.6/dist-packages/tensorflow/__init__.py\", line 50, in __getattr__\n",
      "    from tensorflow._api.v2 import dtypes\n",
      "  File \"/usr/local/lib/python3.6/dist-packages/tensorflow/__init__.py\", line 44, in _load\n",
      "    from tensorflow._api.v2 import bitwise\n",
      "  File \"/usr/lib/python3.6/importlib/__init__.py\", line 126, in import_module\n",
      "    return _bootstrap._gcd_import(name[level:], package, level)\n",
      "  File \"<frozen importlib._bootstrap>\", line 994, in _gcd_import\n",
      "  File \"<frozen importlib._bootstrap>\", line 971, in _find_and_load\n",
      "  File \"<frozen importlib._bootstrap>\", line 953, in _find_and_load_unlocked\n",
      "ModuleNotFoundError: No module named 'tensorflow_core.contrib'\n"
     ]
    },
    {
     "ename": "NameError",
     "evalue": "ignored",
     "output_type": "error",
     "traceback": [
      "\u001b[0;31m---------------------------------------------------------------------------\u001b[0m"
     ]
    }
   ],
   "source": [
    "y_pred_bool = np.round(lstm_no_glove.predict(X_test))\n",
    "print(classification_report(y_test_bool, y_pred_bool))\n",
    "print(f'Accuracy: {accuracy_score(y_test_bool, y_pred_bool)}')\n"
   ]
  },
  {
   "cell_type": "code",
   "execution_count": 0,
   "metadata": {
    "colab": {},
    "colab_type": "code",
    "id": "laTaycVGEP8B"
   },
   "outputs": [],
   "source": []
  }
 ],
 "metadata": {
  "accelerator": "GPU",
  "colab": {
   "collapsed_sections": [],
   "name": "rnn.ipynb",
   "provenance": []
  },
  "kernelspec": {
   "display_name": "Python 3",
   "language": "python",
   "name": "python3"
  },
  "language_info": {
   "codemirror_mode": {
    "name": "ipython",
    "version": 3
   },
   "file_extension": ".py",
   "mimetype": "text/x-python",
   "name": "python",
   "nbconvert_exporter": "python",
   "pygments_lexer": "ipython3",
   "version": "3.7.3"
  }
 },
 "nbformat": 4,
 "nbformat_minor": 1
}
