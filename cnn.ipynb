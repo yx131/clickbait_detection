{
 "cells": [
  {
   "cell_type": "code",
   "execution_count": 16,
   "metadata": {
    "colab": {
     "base_uri": "https://localhost:8080/",
     "height": 34
    },
    "colab_type": "code",
    "executionInfo": {
     "elapsed": 335,
     "status": "ok",
     "timestamp": 1575376581692,
     "user": {
      "displayName": "Yuansheng Xie",
      "photoUrl": "",
      "userId": "02952600350336082848"
     },
     "user_tz": 300
    },
    "id": "x2K3YyZneEBj",
    "outputId": "c0a0effb-9732-4da8-d264-528d34488f85"
   },
   "outputs": [
    {
     "name": "stdout",
     "output_type": "stream",
     "text": [
      "Drive already mounted at /content/drive; to attempt to forcibly remount, call drive.mount(\"/content/drive\", force_remount=True).\n"
     ]
    }
   ],
   "source": [
    "\n",
    "import numpy as np\n",
    "import pandas as pd\n",
    "from sklearn.model_selection import train_test_split\n",
    "from sklearn.metrics import accuracy_score\n",
    "from sklearn.metrics import classification_report\n",
    "from keras.preprocessing import sequence\n",
    "from keras.preprocessing.text import Tokenizer, one_hot\n",
    "from keras.preprocessing.sequence import pad_sequences\n",
    "from keras.models import Sequential\n",
    "from keras.layers import Dense, Dropout, Activation\n",
    "from keras.layers import Embedding\n",
    "from keras.layers import Conv1D, GlobalMaxPooling1D, MaxPooling1D, Flatten\n"
   ]
  },
  {
   "cell_type": "code",
   "execution_count": 17,
   "metadata": {
    "colab": {
     "base_uri": "https://localhost:8080/",
     "height": 374
    },
    "colab_type": "code",
    "executionInfo": {
     "elapsed": 324,
     "status": "ok",
     "timestamp": 1575376583350,
     "user": {
      "displayName": "Yuansheng Xie",
      "photoUrl": "",
      "userId": "02952600350336082848"
     },
     "user_tz": 300
    },
    "id": "Rt4R1kTVwAgg",
    "outputId": "3dca1a52-e153-4b60-89a7-8b3c80013ce5"
   },
   "outputs": [
    {
     "name": "stdout",
     "output_type": "stream",
     "text": [
      "Model: \"sequential_7\"\n",
      "_________________________________________________________________\n",
      "Layer (type)                 Output Shape              Param #   \n",
      "=================================================================\n",
      "embedding_7 (Embedding)      (None, 100, 100)          904200    \n",
      "_________________________________________________________________\n",
      "conv1d_7 (Conv1D)            (None, 93, 32)            25632     \n",
      "_________________________________________________________________\n",
      "max_pooling1d_2 (MaxPooling1 (None, 46, 32)            0         \n",
      "_________________________________________________________________\n",
      "flatten_1 (Flatten)          (None, 1472)              0         \n",
      "_________________________________________________________________\n",
      "dense_3 (Dense)              (None, 10)                14730     \n",
      "_________________________________________________________________\n",
      "dense_4 (Dense)              (None, 1)                 11        \n",
      "=================================================================\n",
      "Total params: 944,573\n",
      "Trainable params: 944,573\n",
      "Non-trainable params: 0\n",
      "_________________________________________________________________\n",
      "None\n"
     ]
    }
   ],
   "source": [
    "model = Sequential()\n",
    "model.add(Embedding(vocab_size, 100, input_length=max_length))\n",
    "model.add(Conv1D(filters=32, kernel_size=8, activation='relu'))\n",
    "model.add(Conv1D(filters=16, kernel_size=8, activation='relu'))\n",
    "model.add(MaxPooling1D(pool_size=2))\n",
    "model.add(Flatten())\n",
    "model.add(Dense(10, activation='relu'))\n",
    "model.add(Dense(1, activation='sigmoid'))\n",
    "print(model.summary())"
   ]
  },
  {
   "cell_type": "code",
   "execution_count": 0,
   "metadata": {
    "colab": {},
    "colab_type": "code",
    "id": "IZnat76LeVkz"
   },
   "outputs": [],
   "source": [
    "df = pd.read_csv('data/prepped/prepped.csv')\n",
    "df['postText'] = df['postText'].transform(lambda x: np.str_(x))"
   ]
  },
  {
   "cell_type": "code",
   "execution_count": 3,
   "metadata": {
    "colab": {
     "base_uri": "https://localhost:8080/",
     "height": 51
    },
    "colab_type": "code",
    "executionInfo": {
     "elapsed": 33608,
     "status": "ok",
     "timestamp": 1575375697470,
     "user": {
      "displayName": "Yuansheng Xie",
      "photoUrl": "",
      "userId": "02952600350336082848"
     },
     "user_tz": 300
    },
    "id": "3EaUWJ7He3WE",
    "outputId": "c77f7103-7e35-4495-abe2-fc0b49b8c42c"
   },
   "outputs": [
    {
     "name": "stdout",
     "output_type": "stream",
     "text": [
      "max length 100\n",
      "vocab size 9042\n"
     ]
    }
   ],
   "source": [
    "tokenizer = Tokenizer()\n",
    "tokenizer.fit_on_texts(df['postText'])\n",
    "max_length = 100 #max(len(p) for p in df['postText'])\n",
    "vocab_size = 9042 #len(tokenizer.word_index) + 1\n",
    "encoded_docs = [one_hot(d, vocab_size) for d in df['postText']]\n",
    "padded_docs = pad_sequences(encoded_docs, maxlen=max_length, padding='post')\n",
    "print(f'max length {max_length}')\n",
    "print(f'vocab size {vocab_size}')"
   ]
  },
  {
   "cell_type": "code",
   "execution_count": 4,
   "metadata": {
    "colab": {
     "base_uri": "https://localhost:8080/",
     "height": 34
    },
    "colab_type": "code",
    "executionInfo": {
     "elapsed": 46541,
     "status": "ok",
     "timestamp": 1575375710408,
     "user": {
      "displayName": "Yuansheng Xie",
      "photoUrl": "",
      "userId": "02952600350336082848"
     },
     "user_tz": 300
    },
    "id": "2QwzRExhF4at",
    "outputId": "fd0a1694-fce4-4bb9-8ffe-b4f58540bf9f"
   },
   "outputs": [
    {
     "name": "stdout",
     "output_type": "stream",
     "text": [
      "Loaded 400000 word vectors.\n"
     ]
    }
   ],
   "source": [
    "embeddings_index = dict()\n",
    "f = open('/content/drive/My Drive/ipython notebooks/Embeddings/GloVe/glove.6B.100d.txt')\n",
    "for line in f:\n",
    "\tvalues = line.split()\n",
    "\tword = values[0]\n",
    "\tcoefs = np.asarray(values[1:], dtype='float32')\n",
    "\tembeddings_index[word] = coefs\n",
    "f.close()\n",
    "print('Loaded %s word vectors.' % len(embeddings_index))"
   ]
  },
  {
   "cell_type": "code",
   "execution_count": 0,
   "metadata": {
    "colab": {},
    "colab_type": "code",
    "id": "fN_HJgbUF5eF"
   },
   "outputs": [],
   "source": [
    "embedding_matrix = np.zeros((vocab_size, 100))\n",
    "\n",
    "for word, i in tokenizer.word_index.items():\n",
    "    if i >= vocab_size:\n",
    "        break\n",
    "    embedding_vector = embeddings_index.get(word)\n",
    "    if embedding_vector is not None:\n",
    "        embedding_matrix[i] = embedding_vector\n",
    "\n",
    "X_train, X_test, y_train, y_test = train_test_split(padded_docs, df['truthMean'], test_size=0.3, random_state=42, stratify=np.round(df['truthMean']))\n",
    "y_train_bool = np.round(y_train)\n",
    "y_test_bool = np.round(y_test)"
   ]
  },
  {
   "cell_type": "code",
   "execution_count": 20,
   "metadata": {
    "colab": {
     "base_uri": "https://localhost:8080/",
     "height": 476
    },
    "colab_type": "code",
    "executionInfo": {
     "elapsed": 624,
     "status": "ok",
     "timestamp": 1575377129173,
     "user": {
      "displayName": "Yuansheng Xie",
      "photoUrl": "",
      "userId": "02952600350336082848"
     },
     "user_tz": 300
    },
    "id": "5QclAvC2eJE_",
    "outputId": "91e51e2c-b1d4-420b-e8a8-ce73f3f3f76c"
   },
   "outputs": [
    {
     "name": "stdout",
     "output_type": "stream",
     "text": [
      "Model: \"sequential_10\"\n",
      "_________________________________________________________________\n",
      "Layer (type)                 Output Shape              Param #   \n",
      "=================================================================\n",
      "embedding_10 (Embedding)     (None, 100, 100)          904200    \n",
      "_________________________________________________________________\n",
      "conv1d_10 (Conv1D)           (None, 98, 250)           75250     \n",
      "_________________________________________________________________\n",
      "conv1d_11 (Conv1D)           (None, 96, 125)           93875     \n",
      "_________________________________________________________________\n",
      "global_max_pooling1d_3 (Glob (None, 125)               0         \n",
      "_________________________________________________________________\n",
      "dense_7 (Dense)              (None, 100)               12600     \n",
      "_________________________________________________________________\n",
      "dropout_6 (Dropout)          (None, 100)               0         \n",
      "_________________________________________________________________\n",
      "activation_5 (Activation)    (None, 100)               0         \n",
      "_________________________________________________________________\n",
      "dense_8 (Dense)              (None, 1)                 101       \n",
      "_________________________________________________________________\n",
      "activation_6 (Activation)    (None, 1)                 0         \n",
      "=================================================================\n",
      "Total params: 1,086,026\n",
      "Trainable params: 1,086,026\n",
      "Non-trainable params: 0\n",
      "_________________________________________________________________\n",
      "None\n"
     ]
    }
   ],
   "source": [
    "# set parameters:\n",
    "batch_size = 64\n",
    "embedding_dims = 100\n",
    "filters = 250\n",
    "kernel_size = 3\n",
    "hidden_dims = 100\n",
    "epochs = 5\n",
    "\n",
    "filters_2 = 125\n",
    "\n",
    "cnn_glove = Sequential()\n",
    "\n",
    "cnn_glove.add(Embedding(vocab_size, embedding_dims, weights=[embedding_matrix], trainable=True, input_length=max_length))\n",
    "\n",
    "cnn_glove.add(Conv1D(filters, kernel_size, padding='valid', activation='relu', strides=1))\n",
    "cnn_glove.add(Conv1D(filters_2, kernel_size, padding='valid', activation='relu', strides=1))\n",
    "cnn_glove.add(GlobalMaxPooling1D())\n",
    "\n",
    "cnn_glove.add(Dense(hidden_dims))\n",
    "cnn_glove.add(Dropout(0.2))\n",
    "cnn_glove.add(Activation('relu'))\n",
    "\n",
    "cnn_glove.add(Dense(1))\n",
    "cnn_glove.add(Activation('sigmoid'))\n",
    "cnn_glove.compile(loss='mean_squared_error', optimizer='adam', metrics=['mean_squared_error', 'accuracy'])\n",
    "print(cnn_glove.summary())"
   ]
  },
  {
   "cell_type": "code",
   "execution_count": 0,
   "metadata": {
    "colab": {
     "base_uri": "https://localhost:8080/",
     "height": 221
    },
    "colab_type": "code",
    "executionInfo": {
     "elapsed": 90391,
     "status": "ok",
     "timestamp": 1575265433956,
     "user": {
      "displayName": "Yuansheng Xie",
      "photoUrl": "",
      "userId": "02952600350336082848"
     },
     "user_tz": 300
    },
    "id": "LpzP5MKkfdVF",
    "outputId": "90809e1b-7066-48c0-eef9-923de7218306"
   },
   "outputs": [
    {
     "name": "stdout",
     "output_type": "stream",
     "text": [
      "Train on 15397 samples, validate on 6600 samples\n",
      "Epoch 1/5\n",
      "15397/15397 [==============================] - 18s 1ms/step - loss: 0.0549 - mean_squared_error: 0.0549 - acc: 0.0889 - val_loss: 0.0639 - val_mean_squared_error: 0.0639 - val_acc: 0.0876\n",
      "Epoch 2/5\n",
      "15397/15397 [==============================] - 17s 1ms/step - loss: 0.0423 - mean_squared_error: 0.0423 - acc: 0.0918 - val_loss: 0.0573 - val_mean_squared_error: 0.0573 - val_acc: 0.0895\n",
      "Epoch 3/5\n",
      "15397/15397 [==============================] - 18s 1ms/step - loss: 0.0350 - mean_squared_error: 0.0350 - acc: 0.0930 - val_loss: 0.0606 - val_mean_squared_error: 0.0606 - val_acc: 0.0870\n",
      "Epoch 4/5\n",
      "15397/15397 [==============================] - 18s 1ms/step - loss: 0.0296 - mean_squared_error: 0.0296 - acc: 0.0936 - val_loss: 0.0560 - val_mean_squared_error: 0.0560 - val_acc: 0.0888\n",
      "Epoch 5/5\n",
      "15397/15397 [==============================] - 18s 1ms/step - loss: 0.0239 - mean_squared_error: 0.0239 - acc: 0.0941 - val_loss: 0.0611 - val_mean_squared_error: 0.0611 - val_acc: 0.0864\n"
     ]
    },
    {
     "data": {
      "text/plain": [
       "<keras.callbacks.History at 0x7f130a17dcf8>"
      ]
     },
     "execution_count": 21,
     "metadata": {
      "tags": []
     },
     "output_type": "execute_result"
    }
   ],
   "source": [
    "cnn_glove.fit(X_train, y_train, batch_size=batch_size, epochs=epochs, validation_data=[X_test, y_test])"
   ]
  },
  {
   "cell_type": "code",
   "execution_count": 0,
   "metadata": {
    "colab": {
     "base_uri": "https://localhost:8080/",
     "height": 187
    },
    "colab_type": "code",
    "executionInfo": {
     "elapsed": 1849,
     "status": "ok",
     "timestamp": 1575265435809,
     "user": {
      "displayName": "Yuansheng Xie",
      "photoUrl": "",
      "userId": "02952600350336082848"
     },
     "user_tz": 300
    },
    "id": "IQJXlj61gCbw",
    "outputId": "76b5a876-c789-4c82-cee4-c52924f9f4fb"
   },
   "outputs": [
    {
     "name": "stdout",
     "output_type": "stream",
     "text": [
      "              precision    recall  f1-score   support\n",
      "\n",
      "         0.0       0.90      0.72      0.80      4965\n",
      "         1.0       0.47      0.76      0.58      1635\n",
      "\n",
      "    accuracy                           0.73      6600\n",
      "   macro avg       0.69      0.74      0.69      6600\n",
      "weighted avg       0.79      0.73      0.75      6600\n",
      "\n",
      "Accuracy: 0.7289393939393939\n"
     ]
    }
   ],
   "source": [
    "y_pred_bool = np.round(cnn_glove.predict(X_test))\n",
    "print(classification_report(y_test_bool, y_pred_bool))\n",
    "print(f'Accuracy: {accuracy_score(y_test_bool, y_pred_bool)}')"
   ]
  },
  {
   "cell_type": "code",
   "execution_count": 0,
   "metadata": {
    "colab": {
     "base_uri": "https://localhost:8080/",
     "height": 476
    },
    "colab_type": "code",
    "executionInfo": {
     "elapsed": 881,
     "status": "ok",
     "timestamp": 1575265451634,
     "user": {
      "displayName": "Yuansheng Xie",
      "photoUrl": "",
      "userId": "02952600350336082848"
     },
     "user_tz": 300
    },
    "id": "w7v_OI4MHgOJ",
    "outputId": "90ae83d6-36d1-49e9-e498-1f1037323bef"
   },
   "outputs": [
    {
     "name": "stdout",
     "output_type": "stream",
     "text": [
      "Model: \"sequential_6\"\n",
      "_________________________________________________________________\n",
      "Layer (type)                 Output Shape              Param #   \n",
      "=================================================================\n",
      "embedding_4 (Embedding)      (None, 100, 100)          904200    \n",
      "_________________________________________________________________\n",
      "dropout_7 (Dropout)          (None, 100, 100)          0         \n",
      "_________________________________________________________________\n",
      "conv1d_5 (Conv1D)            (None, 98, 125)           37625     \n",
      "_________________________________________________________________\n",
      "global_max_pooling1d_4 (Glob (None, 125)               0         \n",
      "_________________________________________________________________\n",
      "dense_7 (Dense)              (None, 100)               12600     \n",
      "_________________________________________________________________\n",
      "dropout_8 (Dropout)          (None, 100)               0         \n",
      "_________________________________________________________________\n",
      "activation_7 (Activation)    (None, 100)               0         \n",
      "_________________________________________________________________\n",
      "dense_8 (Dense)              (None, 1)                 101       \n",
      "_________________________________________________________________\n",
      "activation_8 (Activation)    (None, 1)                 0         \n",
      "=================================================================\n",
      "Total params: 954,526\n",
      "Trainable params: 954,526\n",
      "Non-trainable params: 0\n",
      "_________________________________________________________________\n",
      "None\n"
     ]
    }
   ],
   "source": [
    "cnn_no_glove = Sequential()\n",
    "cnn_no_glove.add(Embedding(vocab_size, embedding_dims, weights=[embedding_matrix], trainable=True, input_length=max_length))\n",
    "cnn_no_glove.add(Dropout(0.2))\n",
    "cnn_no_glove.add(Conv1D(filters_2, kernel_size, padding='valid', activation='relu', strides=1))\n",
    "cnn_no_glove.add(GlobalMaxPooling1D())\n",
    "cnn_no_glove.add(Dense(hidden_dims))\n",
    "cnn_no_glove.add(Dropout(0.2))\n",
    "cnn_no_glove.add(Activation('relu'))\n",
    "cnn_no_glove.add(Dense(1))\n",
    "cnn_no_glove.add(Activation('sigmoid'))\n",
    "cnn_no_glove.compile(loss='mean_squared_error', optimizer='adam', metrics=['mean_squared_error', 'accuracy'])\n",
    "print(cnn_no_glove.summary())"
   ]
  },
  {
   "cell_type": "code",
   "execution_count": 0,
   "metadata": {
    "colab": {
     "base_uri": "https://localhost:8080/",
     "height": 255
    },
    "colab_type": "code",
    "executionInfo": {
     "elapsed": 109290,
     "status": "ok",
     "timestamp": 1575265613357,
     "user": {
      "displayName": "Yuansheng Xie",
      "photoUrl": "",
      "userId": "02952600350336082848"
     },
     "user_tz": 300
    },
    "id": "rQsEZApwIzrB",
    "outputId": "f8cbd6b4-2f44-4751-fcb1-ccf994434f32"
   },
   "outputs": [
    {
     "name": "stdout",
     "output_type": "stream",
     "text": [
      "Train on 15397 samples, validate on 6600 samples\n",
      "Epoch 1/6\n",
      "15397/15397 [==============================] - 18s 1ms/step - loss: 0.0631 - mean_squared_error: 0.0631 - acc: 0.0865 - val_loss: 0.0488 - val_mean_squared_error: 0.0488 - val_acc: 0.0964\n",
      "Epoch 2/6\n",
      "15397/15397 [==============================] - 18s 1ms/step - loss: 0.0430 - mean_squared_error: 0.0430 - acc: 0.0913 - val_loss: 0.0495 - val_mean_squared_error: 0.0495 - val_acc: 0.0964\n",
      "Epoch 3/6\n",
      "15397/15397 [==============================] - 18s 1ms/step - loss: 0.0359 - mean_squared_error: 0.0359 - acc: 0.0926 - val_loss: 0.0530 - val_mean_squared_error: 0.0530 - val_acc: 0.0941\n",
      "Epoch 4/6\n",
      "15397/15397 [==============================] - 18s 1ms/step - loss: 0.0299 - mean_squared_error: 0.0299 - acc: 0.0935 - val_loss: 0.0512 - val_mean_squared_error: 0.0512 - val_acc: 0.0942\n",
      "Epoch 5/6\n",
      "15397/15397 [==============================] - 18s 1ms/step - loss: 0.0244 - mean_squared_error: 0.0244 - acc: 0.0940 - val_loss: 0.0591 - val_mean_squared_error: 0.0591 - val_acc: 0.0895\n",
      "Epoch 6/6\n",
      "15397/15397 [==============================] - 18s 1ms/step - loss: 0.0203 - mean_squared_error: 0.0203 - acc: 0.0942 - val_loss: 0.0656 - val_mean_squared_error: 0.0656 - val_acc: 0.0850\n"
     ]
    },
    {
     "data": {
      "text/plain": [
       "<keras.callbacks.History at 0x7f13110a9630>"
      ]
     },
     "execution_count": 27,
     "metadata": {
      "tags": []
     },
     "output_type": "execute_result"
    }
   ],
   "source": [
    "cnn_no_glove.fit(X_train, y_train, batch_size=batch_size, epochs=epochs, validation_data=[X_test, y_test])"
   ]
  },
  {
   "cell_type": "code",
   "execution_count": 0,
   "metadata": {
    "colab": {
     "base_uri": "https://localhost:8080/",
     "height": 187
    },
    "colab_type": "code",
    "executionInfo": {
     "elapsed": 1989,
     "status": "ok",
     "timestamp": 1575265615349,
     "user": {
      "displayName": "Yuansheng Xie",
      "photoUrl": "",
      "userId": "02952600350336082848"
     },
     "user_tz": 300
    },
    "id": "-MypDVvhJD3u",
    "outputId": "bf15354b-7207-4624-f046-fc705391bb3b"
   },
   "outputs": [
    {
     "name": "stdout",
     "output_type": "stream",
     "text": [
      "              precision    recall  f1-score   support\n",
      "\n",
      "         0.0       0.90      0.68      0.78      4965\n",
      "         1.0       0.45      0.77      0.57      1635\n",
      "\n",
      "    accuracy                           0.71      6600\n",
      "   macro avg       0.67      0.73      0.67      6600\n",
      "weighted avg       0.79      0.71      0.73      6600\n",
      "\n",
      "Accuracy: 0.7059090909090909\n"
     ]
    }
   ],
   "source": [
    "y_pred_bool = np.round(cnn_no_glove.predict(X_test))\n",
    "print(classification_report(y_test_bool, y_pred_bool))\n",
    "print(f'Accuracy: {accuracy_score(y_test_bool, y_pred_bool)}')"
   ]
  },
  {
   "cell_type": "code",
   "execution_count": 0,
   "metadata": {
    "colab": {},
    "colab_type": "code",
    "id": "GfgX4Q6RI9t0"
   },
   "outputs": [],
   "source": []
  }
 ],
 "metadata": {
  "colab": {
   "collapsed_sections": [],
   "name": "cnn.ipynb",
   "provenance": []
  },
  "kernelspec": {
   "display_name": "Python 3",
   "language": "python",
   "name": "python3"
  },
  "language_info": {
   "codemirror_mode": {
    "name": "ipython",
    "version": 3
   },
   "file_extension": ".py",
   "mimetype": "text/x-python",
   "name": "python",
   "nbconvert_exporter": "python",
   "pygments_lexer": "ipython3",
   "version": "3.7.3"
  }
 },
 "nbformat": 4,
 "nbformat_minor": 1
}
